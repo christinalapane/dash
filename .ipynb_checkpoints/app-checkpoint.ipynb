{
 "cells": [
  {
   "cell_type": "code",
   "execution_count": 5,
   "id": "ed3e2923",
   "metadata": {},
   "outputs": [],
   "source": [
    "import pandas as pd\n",
    "import matplotlib.pyplot as plt\n",
    "import seaborn as sns\n",
    "import ipywidgets as widgets\n",
    "from ipywidgets import Output\n",
    "import names\n",
    "out = Output()"
   ]
  },
  {
   "cell_type": "code",
   "execution_count": null,
   "id": "8ed2a612-5b74-4624-a5d5-a97d4ccd260e",
   "metadata": {},
   "outputs": [],
   "source": []
  },
  {
   "cell_type": "code",
   "execution_count": 6,
   "id": "bba5ebdc",
   "metadata": {},
   "outputs": [],
   "source": [
    "%matplotlib inline"
   ]
  },
  {
   "cell_type": "code",
   "execution_count": 7,
   "id": "662c9d19",
   "metadata": {},
   "outputs": [],
   "source": [
    "df = pd.read_csv('train.csv')"
   ]
  },
  {
   "cell_type": "code",
   "execution_count": 8,
   "id": "567d5c83",
   "metadata": {},
   "outputs": [],
   "source": [
    "gender_missing = df['Gender'].isnull()\n",
    "married_missing = df['Married'].isnull()\n",
    "dependents_missing = df['Dependents'].isnull()\n",
    "employed_missing = df['Self_Employed'].isnull()\n",
    "loan_missing = df['LoanAmount'].isnull()\n",
    "term_missing = df['Loan_Amount_Term'].isnull()\n",
    "history_missing = df['Credit_History'].isnull()\n"
   ]
  },
  {
   "cell_type": "code",
   "execution_count": 9,
   "id": "6f7a2210",
   "metadata": {},
   "outputs": [],
   "source": [
    "df.loc[gender_missing, 'Gender'] = 'Male'\n",
    "df.loc[married_missing, 'Married'] = 'Yes'\n",
    "df.loc[dependents_missing, 'Dependents'] = 0.0\n",
    "df.loc[employed_missing, 'Self_Employed'] = 'No'\n",
    "df.loc[term_missing, 'Loan_Amount_Term'] = 360\n",
    "df.loc[history_missing, 'Credit_History'] = 1.0\n",
    "df.loc[loan_missing, 'LoanAmount'] = 146.0"
   ]
  },
  {
   "cell_type": "code",
   "execution_count": 10,
   "id": "68fd506b",
   "metadata": {},
   "outputs": [],
   "source": [
    "df_property = pd.DataFrame().assign(Property_Type=df['Property_Area'], Loan_Status=df['Loan_Status'])\n",
    "df_loan = pd.DataFrame().assign(Loan_ID=df['Loan_ID'], Loan_Amount=df['LoanAmount'], Term_Length=df['Loan_Amount_Term'])\n",
    "df_banking = pd.DataFrame().assign(Loan_ID=df['Loan_ID'], Income=df['ApplicantIncome'], Co_Income=df['CoapplicantIncome'], Loan_Amount=df['LoanAmount'], Term_Length=df['Loan_Amount_Term'], Property=df['Property_Area'], Loan_Status=df['Loan_Status'])"
   ]
  },
  {
   "cell_type": "code",
   "execution_count": 11,
   "id": "69530e81",
   "metadata": {},
   "outputs": [],
   "source": [
    "loan_id_list = list(df_banking.Loan_ID.unique())\n",
    "names_list = []\n",
    "for i in range(614):\n",
    "    names_list.append(names.get_full_name())"
   ]
  },
  {
   "cell_type": "code",
   "execution_count": 12,
   "id": "3c6f08d4",
   "metadata": {},
   "outputs": [],
   "source": [
    "df_banking.insert(1, 'Clients', names_list)\n",
    "dd_clients = widgets.Dropdown(options = loan_id_list )\n"
   ]
  },
  {
   "cell_type": "code",
   "execution_count": 13,
   "id": "993743ca",
   "metadata": {},
   "outputs": [],
   "source": [
    "def dd_id_observer(bunch):\n",
    "    out.clear_output()\n",
    "    with out:\n",
    "        display(df_banking[df_banking.Loan_ID == bunch.new])\n",
    "        "
   ]
  },
  {
   "cell_type": "code",
   "execution_count": 14,
   "id": "a47ef398",
   "metadata": {},
   "outputs": [],
   "source": [
    "client_info = dd_clients.observe(dd_id_observer, names='value')\n"
   ]
  },
  {
   "cell_type": "markdown",
   "id": "8d471830",
   "metadata": {},
   "source": [
    "# Faux Mortgage Employee Database"
   ]
  },
  {
   "cell_type": "markdown",
   "id": "b1952868",
   "metadata": {},
   "source": [
    "### Choose a Loan ID to get client information"
   ]
  },
  {
   "cell_type": "code",
   "execution_count": 15,
   "id": "17cfe354",
   "metadata": {},
   "outputs": [
    {
     "data": {
      "application/vnd.jupyter.widget-view+json": {
       "model_id": "8f9109c26c5840b39629b534874872aa",
       "version_major": 2,
       "version_minor": 0
      },
      "text/plain": [
       "Dropdown(options=('LP001002', 'LP001003', 'LP001005', 'LP001006', 'LP001008', 'LP001011', 'LP001013', 'LP00101…"
      ]
     },
     "metadata": {},
     "output_type": "display_data"
    }
   ],
   "source": [
    "display(dd_clients)"
   ]
  },
  {
   "cell_type": "code",
   "execution_count": 18,
   "id": "cbeb221c",
   "metadata": {},
   "outputs": [
    {
     "data": {
      "application/vnd.jupyter.widget-view+json": {
       "model_id": "b03af8dddb95477ca69d9d6850ef8d6a",
       "version_major": 2,
       "version_minor": 0
      },
      "text/plain": [
       "Output()"
      ]
     },
     "metadata": {},
     "output_type": "display_data"
    }
   ],
   "source": [
    "display(out)"
   ]
  },
  {
   "cell_type": "markdown",
   "id": "b76607c7",
   "metadata": {},
   "source": [
    "## Dashboard"
   ]
  },
  {
   "cell_type": "code",
   "execution_count": 17,
   "id": "227ad0e8",
   "metadata": {},
   "outputs": [
    {
     "data": {
      "application/vnd.jupyter.widget-view+json": {
       "model_id": "b3950413153a45708c392f2b07c3db23",
       "version_major": 2,
       "version_minor": 0
      },
      "text/plain": [
       "interactive(children=(Dropdown(description='hue', options=('Gender', 'Married', 'Dependents', 'Self_Employed',…"
      ]
     },
     "metadata": {},
     "output_type": "display_data"
    }
   ],
   "source": [
    "from ipywidgets import interact\n",
    "@interact(hue=['Gender', 'Married', 'Dependents', 'Self_Employed', 'Education', 'ApplicantIncome', 'CoapplicantIncome', 'LoanAmount', 'Loan_Amount_Term','Credit_History', 'Property_Area', 'Loan_Status']\n",
    "    )\n",
    "def plot(hue):\n",
    "    _= sns.pairplot(df, hue=hue)"
   ]
  },
  {
   "cell_type": "code",
   "execution_count": null,
   "id": "5e209597",
   "metadata": {},
   "outputs": [],
   "source": []
  }
 ],
 "metadata": {
  "kernelspec": {
   "display_name": "Python 3 (ipykernel)",
   "language": "python",
   "name": "python3"
  },
  "language_info": {
   "codemirror_mode": {
    "name": "ipython",
    "version": 3
   },
   "file_extension": ".py",
   "mimetype": "text/x-python",
   "name": "python",
   "nbconvert_exporter": "python",
   "pygments_lexer": "ipython3",
   "version": "3.9.10"
  }
 },
 "nbformat": 4,
 "nbformat_minor": 5
}
